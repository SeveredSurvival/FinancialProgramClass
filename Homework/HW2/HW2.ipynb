{
 "cells": [
  {
   "cell_type": "code",
   "execution_count": 2,
   "metadata": {
    "collapsed": true
   },
   "outputs": [
    {
     "data": {
      "text/plain": [
       "date        int64\nhour        int64\nminute      int64\nsecond      int64\nprice     float64\nvolume      int64\ndtype: object"
      ]
     },
     "execution_count": 2,
     "metadata": {},
     "output_type": "execute_result"
    }
   ],
   "source": [
    "import pandas as pd\n",
    "\n",
    "df = pd.read_csv('~/PycharmProjects/FinancialProgramClass/Homework/HW2/TAQ_JNJ_1004_1015_2010_trading_.csv', delim_whitespace=True)\n",
    "\n",
    "df.dtypes"
   ]
  },
  {
   "cell_type": "code",
   "execution_count": 5,
   "metadata": {},
   "outputs": [],
   "source": [
    "df1 = df.loc[(df.hour >= 10) & (df.hour < 16)]\n",
    "df2 = df.loc[(df.hour == 9) & (df.minute >= 30)]\n",
    "\n",
    "data = pd.concat([df1, df2], axis=0)\n",
    "\n",
    "data.reset_index(drop=True, inplace=True)\n",
    "\n",
    "data.to_csv('TAQ_JNJ_1004_1015_2010_trading_normal_hours.csv')"
   ]
  },
  {
   "cell_type": "code",
   "execution_count": 16,
   "metadata": {},
   "outputs": [],
   "source": [
    ""
   ]
  },
  {
   "cell_type": "code",
   "execution_count": null,
   "metadata": {},
   "outputs": [],
   "source": [
    ""
   ]
  }
 ],
 "metadata": {
  "kernelspec": {
   "display_name": "Python 2",
   "language": "python",
   "name": "python2"
  },
  "language_info": {
   "codemirror_mode": {
    "name": "ipython",
    "version": 2.0
   },
   "file_extension": ".py",
   "mimetype": "text/x-python",
   "name": "python",
   "nbconvert_exporter": "python",
   "pygments_lexer": "ipython2",
   "version": "2.7.6"
  }
 },
 "nbformat": 4,
 "nbformat_minor": 0
}