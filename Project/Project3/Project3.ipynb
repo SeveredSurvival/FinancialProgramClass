{
 "cells": [
  {
   "cell_type": "code",
   "execution_count": 74,
   "metadata": {
    "collapsed": true
   },
   "outputs": [
    {
     "data": {
      "text/html": [
       "<div>\n",
       "<table border=\"1\" class=\"dataframe\">\n",
       "  <thead>\n",
       "    <tr style=\"text-align: right;\">\n",
       "      <th></th>\n",
       "      <th>Open</th>\n",
       "      <th>High</th>\n",
       "      <th>Low</th>\n",
       "      <th>Close</th>\n",
       "      <th>Volume</th>\n",
       "      <th>Adj Close</th>\n",
       "      <th>avg_price</th>\n",
       "    </tr>\n",
       "    <tr>\n",
       "      <th>Date</th>\n",
       "      <th></th>\n",
       "      <th></th>\n",
       "      <th></th>\n",
       "      <th></th>\n",
       "      <th></th>\n",
       "      <th></th>\n",
       "      <th></th>\n",
       "    </tr>\n",
       "  </thead>\n",
       "  <tbody>\n",
       "    <tr>\n",
       "      <th>2016-01-04</th>\n",
       "      <td>2038.199951</td>\n",
       "      <td>2038.199951</td>\n",
       "      <td>1989.680054</td>\n",
       "      <td>2012.660034</td>\n",
       "      <td>4304880000</td>\n",
       "      <td>2012.660034</td>\n",
       "      <td>2013.513346</td>\n",
       "    </tr>\n",
       "    <tr>\n",
       "      <th>2016-01-05</th>\n",
       "      <td>2013.780029</td>\n",
       "      <td>2021.939941</td>\n",
       "      <td>2004.170044</td>\n",
       "      <td>2016.709961</td>\n",
       "      <td>3706620000</td>\n",
       "      <td>2016.709961</td>\n",
       "      <td>2014.273315</td>\n",
       "    </tr>\n",
       "    <tr>\n",
       "      <th>2016-01-06</th>\n",
       "      <td>2011.709961</td>\n",
       "      <td>2011.709961</td>\n",
       "      <td>1979.050049</td>\n",
       "      <td>1990.260010</td>\n",
       "      <td>4336660000</td>\n",
       "      <td>1990.260010</td>\n",
       "      <td>1993.673340</td>\n",
       "    </tr>\n",
       "    <tr>\n",
       "      <th>2016-01-07</th>\n",
       "      <td>1985.319946</td>\n",
       "      <td>1985.319946</td>\n",
       "      <td>1938.829956</td>\n",
       "      <td>1943.089966</td>\n",
       "      <td>5076590000</td>\n",
       "      <td>1943.089966</td>\n",
       "      <td>1955.746623</td>\n",
       "    </tr>\n",
       "    <tr>\n",
       "      <th>2016-01-08</th>\n",
       "      <td>1945.969971</td>\n",
       "      <td>1960.400024</td>\n",
       "      <td>1918.459961</td>\n",
       "      <td>1922.030029</td>\n",
       "      <td>4664940000</td>\n",
       "      <td>1922.030029</td>\n",
       "      <td>1933.630005</td>\n",
       "    </tr>\n",
       "  </tbody>\n",
       "</table>\n",
       "</div>"
      ],
      "text/plain": [
       "<div>\n",
       "<table border=\"1\" class=\"dataframe\">\n",
       "  <thead>\n",
       "    <tr style=\"text-align: right;\">\n",
       "      <th></th>\n",
       "      <th>Open</th>\n",
       "      <th>High</th>\n",
       "      <th>Low</th>\n",
       "      <th>Close</th>\n",
       "      <th>Volume</th>\n",
       "      <th>Adj Close</th>\n",
       "      <th>avg_price</th>\n",
       "    </tr>\n",
       "    <tr>\n",
       "      <th>Date</th>\n",
       "      <th></th>\n",
       "      <th></th>\n",
       "      <th></th>\n",
       "      <th></th>\n",
       "      <th></th>\n",
       "      <th></th>\n",
       "      <th></th>\n",
       "    </tr>\n",
       "  </thead>\n",
       "  <tbody>\n",
       "    <tr>\n",
       "      <th>2016-01-04</th>\n",
       "      <td>2038.199951</td>\n",
       "      <td>2038.199951</td>\n",
       "      <td>1989.680054</td>\n",
       "      <td>2012.660034</td>\n",
       "      <td>4304880000</td>\n",
       "      <td>2012.660034</td>\n",
       "      <td>2013.513346</td>\n",
       "    </tr>\n",
       "    <tr>\n",
       "      <th>2016-01-05</th>\n",
       "      <td>2013.780029</td>\n",
       "      <td>2021.939941</td>\n",
       "      <td>2004.170044</td>\n",
       "      <td>2016.709961</td>\n",
       "      <td>3706620000</td>\n",
       "      <td>2016.709961</td>\n",
       "      <td>2014.273315</td>\n",
       "    </tr>\n",
       "    <tr>\n",
       "      <th>2016-01-06</th>\n",
       "      <td>2011.709961</td>\n",
       "      <td>2011.709961</td>\n",
       "      <td>1979.050049</td>\n",
       "      <td>1990.260010</td>\n",
       "      <td>4336660000</td>\n",
       "      <td>1990.260010</td>\n",
       "      <td>1993.673340</td>\n",
       "    </tr>\n",
       "    <tr>\n",
       "      <th>2016-01-07</th>\n",
       "      <td>1985.319946</td>\n",
       "      <td>1985.319946</td>\n",
       "      <td>1938.829956</td>\n",
       "      <td>1943.089966</td>\n",
       "      <td>5076590000</td>\n",
       "      <td>1943.089966</td>\n",
       "      <td>1955.746623</td>\n",
       "    </tr>\n",
       "    <tr>\n",
       "      <th>2016-01-08</th>\n",
       "      <td>1945.969971</td>\n",
       "      <td>1960.400024</td>\n",
       "      <td>1918.459961</td>\n",
       "      <td>1922.030029</td>\n",
       "      <td>4664940000</td>\n",
       "      <td>1922.030029</td>\n",
       "      <td>1933.630005</td>\n",
       "    </tr>\n",
       "  </tbody>\n",
       "</table>\n",
       "</div>"
      ]
     },
     "execution_count": 74,
     "metadata": {},
     "output_type": "execute_result"
    }
   ],
   "source": [
    "from pandas_datareader import data\n",
    "import pandas as pd\n",
    "import datetime\n",
    "\n",
    "start = datetime.datetime(2016, 1, 1)\n",
    "end = datetime.datetime(2016, 12, 1 )\n",
    "\n",
    "sp500 = data.DataReader(\"^GSPC\", 'yahoo', start, end)\n",
    "\n",
    "sp500.loc[:, 'avg_price'] = (sp500.loc[:, 'High'] + sp500.loc[:, 'Low'] + sp500.loc[:, 'Close'])/3\n",
    "\n",
    "sp500.head()"
   ]
  },
  {
   "cell_type": "code",
   "execution_count": 100,
   "metadata": {},
   "outputs": [],
   "source": [
    "def arithmetic_return_action(data, k = 30, p = 0.05, t = 0.15):\n",
    "    '''\n",
    "    This function will calculate arithmetic return of k days and based on the sum return to determine actions\n",
    "    \n",
    "    :param df: stock data\n",
    "    :param k: number of days\n",
    "    :param p: cutoff rate\n",
    "    :param t: sum of the return rate to  a action: buy, hold, or sell\n",
    "    :return: stock data labeled with actions\n",
    "    '''\n",
    "\n",
    "    import numpy as np\n",
    "    df = data.copy()\n",
    "    df.loc[:, 'temp_return'] = 0\n",
    "    df.loc[:, 'sum_return']  = 0\n",
    "    \n",
    "    \n",
    "    for i in range(1, k + 1):\n",
    "        \n",
    "        df.loc[:, 'temp_return'] = (df.loc[:, 'avg_price'].shift(-i) - df.loc[:, 'Close']) / df.loc[:, 'Close']\n",
    "        df.loc[np.fabs(df.temp_return) > p, 'sum_return'] += df.loc[(np.fabs(df.temp_return) > p), 'temp_return']\n",
    "\n",
    "    \n",
    "    df.loc[df.sum_return >= t, 'action'] = 'buy'    \n",
    "    df.loc[(df.sum_return < t) & (df.sum_return > -t), 'action'] = 'hold'  \n",
    "    df.loc[df.sum_return <= -t, 'action'] = 'sell'\n",
    "    \n",
    "    return df.loc[:, ['Open', 'High', 'Low', 'Close', 'Volume', 'avg_price', 'sum_return', 'action']]"
   ]
  },
  {
   "cell_type": "code",
   "execution_count": 101,
   "metadata": {},
   "outputs": [
    {
     "data": {
      "text/html": [
       "<div>\n",
       "<table border=\"1\" class=\"dataframe\">\n",
       "  <thead>\n",
       "    <tr style=\"text-align: right;\">\n",
       "      <th></th>\n",
       "      <th>Open</th>\n",
       "      <th>High</th>\n",
       "      <th>Low</th>\n",
       "      <th>Close</th>\n",
       "      <th>Volume</th>\n",
       "      <th>avg_price</th>\n",
       "      <th>sum_return</th>\n",
       "    </tr>\n",
       "  </thead>\n",
       "  <tbody>\n",
       "    <tr>\n",
       "      <th>count</th>\n",
       "      <td>61.000000</td>\n",
       "      <td>61.000000</td>\n",
       "      <td>61.000000</td>\n",
       "      <td>61.000000</td>\n",
       "      <td>6.100000e+01</td>\n",
       "      <td>61.000000</td>\n",
       "      <td>61.000000</td>\n",
       "    </tr>\n",
       "    <tr>\n",
       "      <th>mean</th>\n",
       "      <td>1950.946223</td>\n",
       "      <td>1963.812776</td>\n",
       "      <td>1934.444592</td>\n",
       "      <td>1951.224914</td>\n",
       "      <td>4.558996e+09</td>\n",
       "      <td>1949.827427</td>\n",
       "      <td>0.230294</td>\n",
       "    </tr>\n",
       "    <tr>\n",
       "      <th>std</th>\n",
       "      <td>63.782953</td>\n",
       "      <td>60.441632</td>\n",
       "      <td>68.971680</td>\n",
       "      <td>65.220669</td>\n",
       "      <td>7.325942e+08</td>\n",
       "      <td>64.538896</td>\n",
       "      <td>0.599457</td>\n",
       "    </tr>\n",
       "    <tr>\n",
       "      <th>min</th>\n",
       "      <td>1833.400024</td>\n",
       "      <td>1847.000000</td>\n",
       "      <td>1810.099976</td>\n",
       "      <td>1829.079956</td>\n",
       "      <td>2.809090e+09</td>\n",
       "      <td>1828.726644</td>\n",
       "      <td>-1.404052</td>\n",
       "    </tr>\n",
       "    <tr>\n",
       "      <th>25%</th>\n",
       "      <td>1902.520020</td>\n",
       "      <td>1916.989990</td>\n",
       "      <td>1877.400024</td>\n",
       "      <td>1903.030029</td>\n",
       "      <td>4.078620e+09</td>\n",
       "      <td>1897.716675</td>\n",
       "      <td>0.000000</td>\n",
       "    </tr>\n",
       "    <tr>\n",
       "      <th>50%</th>\n",
       "      <td>1937.089966</td>\n",
       "      <td>1950.329956</td>\n",
       "      <td>1920.300049</td>\n",
       "      <td>1939.380005</td>\n",
       "      <td>4.570670e+09</td>\n",
       "      <td>1935.626668</td>\n",
       "      <td>0.000000</td>\n",
       "    </tr>\n",
       "    <tr>\n",
       "      <th>75%</th>\n",
       "      <td>2011.709961</td>\n",
       "      <td>2015.939941</td>\n",
       "      <td>1989.680054</td>\n",
       "      <td>2012.660034</td>\n",
       "      <td>5.011540e+09</td>\n",
       "      <td>2012.366658</td>\n",
       "      <td>0.339900</td>\n",
       "    </tr>\n",
       "    <tr>\n",
       "      <th>max</th>\n",
       "      <td>2063.770020</td>\n",
       "      <td>2072.209961</td>\n",
       "      <td>2058.270020</td>\n",
       "      <td>2063.949951</td>\n",
       "      <td>6.503140e+09</td>\n",
       "      <td>2064.809977</td>\n",
       "      <td>2.266714</td>\n",
       "    </tr>\n",
       "  </tbody>\n",
       "</table>\n",
       "</div>"
      ],
      "text/plain": [
       "<div>\n",
       "<table border=\"1\" class=\"dataframe\">\n",
       "  <thead>\n",
       "    <tr style=\"text-align: right;\">\n",
       "      <th></th>\n",
       "      <th>Open</th>\n",
       "      <th>High</th>\n",
       "      <th>Low</th>\n",
       "      <th>Close</th>\n",
       "      <th>Volume</th>\n",
       "      <th>avg_price</th>\n",
       "      <th>sum_return</th>\n",
       "    </tr>\n",
       "  </thead>\n",
       "  <tbody>\n",
       "    <tr>\n",
       "      <th>count</th>\n",
       "      <td>61.000000</td>\n",
       "      <td>61.000000</td>\n",
       "      <td>61.000000</td>\n",
       "      <td>61.000000</td>\n",
       "      <td>6.100000e+01</td>\n",
       "      <td>61.000000</td>\n",
       "      <td>61.000000</td>\n",
       "    </tr>\n",
       "    <tr>\n",
       "      <th>mean</th>\n",
       "      <td>1950.946223</td>\n",
       "      <td>1963.812776</td>\n",
       "      <td>1934.444592</td>\n",
       "      <td>1951.224914</td>\n",
       "      <td>4.558996e+09</td>\n",
       "      <td>1949.827427</td>\n",
       "      <td>0.230294</td>\n",
       "    </tr>\n",
       "    <tr>\n",
       "      <th>std</th>\n",
       "      <td>63.782953</td>\n",
       "      <td>60.441632</td>\n",
       "      <td>68.971680</td>\n",
       "      <td>65.220669</td>\n",
       "      <td>7.325942e+08</td>\n",
       "      <td>64.538896</td>\n",
       "      <td>0.599457</td>\n",
       "    </tr>\n",
       "    <tr>\n",
       "      <th>min</th>\n",
       "      <td>1833.400024</td>\n",
       "      <td>1847.000000</td>\n",
       "      <td>1810.099976</td>\n",
       "      <td>1829.079956</td>\n",
       "      <td>2.809090e+09</td>\n",
       "      <td>1828.726644</td>\n",
       "      <td>-1.404052</td>\n",
       "    </tr>\n",
       "    <tr>\n",
       "      <th>25%</th>\n",
       "      <td>1902.520020</td>\n",
       "      <td>1916.989990</td>\n",
       "      <td>1877.400024</td>\n",
       "      <td>1903.030029</td>\n",
       "      <td>4.078620e+09</td>\n",
       "      <td>1897.716675</td>\n",
       "      <td>0.000000</td>\n",
       "    </tr>\n",
       "    <tr>\n",
       "      <th>50%</th>\n",
       "      <td>1937.089966</td>\n",
       "      <td>1950.329956</td>\n",
       "      <td>1920.300049</td>\n",
       "      <td>1939.380005</td>\n",
       "      <td>4.570670e+09</td>\n",
       "      <td>1935.626668</td>\n",
       "      <td>0.000000</td>\n",
       "    </tr>\n",
       "    <tr>\n",
       "      <th>75%</th>\n",
       "      <td>2011.709961</td>\n",
       "      <td>2015.939941</td>\n",
       "      <td>1989.680054</td>\n",
       "      <td>2012.660034</td>\n",
       "      <td>5.011540e+09</td>\n",
       "      <td>2012.366658</td>\n",
       "      <td>0.339900</td>\n",
       "    </tr>\n",
       "    <tr>\n",
       "      <th>max</th>\n",
       "      <td>2063.770020</td>\n",
       "      <td>2072.209961</td>\n",
       "      <td>2058.270020</td>\n",
       "      <td>2063.949951</td>\n",
       "      <td>6.503140e+09</td>\n",
       "      <td>2064.809977</td>\n",
       "      <td>2.266714</td>\n",
       "    </tr>\n",
       "  </tbody>\n",
       "</table>\n",
       "</div>"
      ]
     },
     "execution_count": 101,
     "metadata": {},
     "output_type": "execute_result"
    }
   ],
   "source": [
    "sp_3m = sp500.loc[:'2016-3-31']\n",
    "\n",
    "sp_3m_action = arithmetic_return_action(sp_3m)\n",
    "\n",
    "sp_3m_action.describe()"
   ]
  },
  {
   "cell_type": "markdown",
   "metadata": {},
   "source": [
    "The strategy here is if a signal is buy, then we will buy 100 shares at the avg price each time, if signal is sell, we will sell the 100 shares at avg price each time. Based on above 3-month statistic data, the distribution is negative skewed, we set the cutoff rate as 5% and T value as 15%"
   ]
  },
  {
   "cell_type": "code",
   "execution_count": 102,
   "metadata": {},
   "outputs": [
    {
     "name": "stdout",
     "output_type": "stream",
     "text": [
      "At the end of March 31, 2016, our portfolio position is: 2100 shares, average price bought/sold is: $1,880.40\n"
     ]
    }
   ],
   "source": [
    "money_out = sp_3m_action.loc[sp_3m_action.action == 'buy', 'avg_price'].sum() * 100\n",
    "money_in = sp_3m_action.loc[sp_3m_action.action == 'sell', 'avg_price'].sum() * 100\n",
    "position = sp_3m_action.loc[sp_3m_action.action == 'buy', 'action'].count() - sp_3m_action.loc[sp_3m_action.action == 'sell', 'action'].count()\n",
    "\n",
    "avg_cost = (money_out-money_in)/position/100\n",
    "\n",
    "print('At the end of March 31, 2016, our portfolio position is: {:d} shares, average price bought/sold is: ${:,.2f}'.format(position*100, avg_cost))"
   ]
  },
  {
   "cell_type": "code",
   "execution_count": 103,
   "metadata": {},
   "outputs": [
    {
     "data": {
      "text/plain": [
       "Open         2.090930e+03\nHigh         2.099300e+03\nLow          2.071620e+03\nClose        2.075810e+03\nVolume       4.309840e+09\nAdj Close    2.075810e+03\navg_price    2.082243e+03\nName: 2016-04-28 00:00:00, dtype: float64"
      ]
     },
     "execution_count": 103,
     "metadata": {},
     "output_type": "execute_result"
    }
   ],
   "source": [
    "sp500.loc['2016-4-28']"
   ]
  },
  {
   "cell_type": "code",
   "execution_count": 104,
   "metadata": {},
   "outputs": [
    {
     "name": "stdout",
     "output_type": "stream",
     "text": [
      "By the end of April 2016, the portfolio profit is $423,861.84\n"
     ]
    }
   ],
   "source": [
    "profit = (sp500.loc['2016-4-28', 'avg_price'] - avg_cost) * position * 100\n",
    "\n",
    "print('By the end of April 2016, the portfolio profit is ${:,.2f}'.format(profit))"
   ]
  },
  {
   "cell_type": "markdown",
   "metadata": {},
   "source": [
    "This model can be so profitable is because that all its action are based on already-known future returns, under this assumption, you can't lose money.\n",
    "Thus, we will use a machine learning method to do a real prediction."
   ]
  },
  {
   "cell_type": "code",
   "execution_count": 97,
   "metadata": {},
   "outputs": [
    {
     "data": {
      "text/plain": [
       "<matplotlib.axes._subplots.AxesSubplot at 0x119cee8d0>"
      ]
     },
     "execution_count": 97,
     "metadata": {},
     "output_type": "execute_result"
    },
    {
     "data": {
      "image/png": "[encoded data removed]",
      "text/plain": [
       "<matplotlib.figure.Figure at 0x1172c2518>"
      ]
     },
     "metadata": {},
     "output_type": "display_data"
    }
   ],
   "source": [
    "%matplotlib inline\n",
    "sp_3m.loc[:, 'avg_price'].plot(title=\"S&P 500 Price Chart Jan - March 2016\")"
   ]
  },
  {
   "cell_type": "code",
   "execution_count": 147,
   "metadata": {},
   "outputs": [],
   "source": [
    "def label_action(data, k = 30, p = 0.05, t = 0.15):\n",
    "    '''\n",
    "    This function will calculate arithmetic return of k days and based on the sum return to label actions\n",
    "    \n",
    "    :param df: stock data\n",
    "    :param k: number of days\n",
    "    :param p: cutoff rate\n",
    "    :param t: sum of the return rate to label a action: buy, hold, or sell\n",
    "    :return: stock data labeled with actions\n",
    "    '''\n",
    "\n",
    "    import numpy as np\n",
    "    df = data.copy()\n",
    "    df.loc[:, 'temp_return'] = 0\n",
    "    df.loc[:, 'sum_return']  = 0\n",
    "    \n",
    "    \n",
    "    for i in range(1, k + 1):\n",
    "        \n",
    "        df.loc[:, 'temp_return'] = (df.loc[:, 'avg_price'].shift(-i) - df.loc[:, 'Close']) / df.loc[:, 'Close']\n",
    "        df.loc[np.fabs(df.temp_return) > p, 'sum_return'] += df.loc[(np.fabs(df.temp_return) > p), 'temp_return']\n",
    "\n",
    "    \n",
    "    df.loc[df.sum_return >= t, 'action'] = 'buy'    \n",
    "    df.loc[(df.sum_return < t) & (df.sum_return > -t), 'action'] = 'hold'  \n",
    "    df.loc[df.sum_return <= -t, 'action'] = 'sell' \n",
    "    \n",
    "    return df.loc[:, ['Open', 'High', 'Low', 'Close', 'Volume', 'avg_price', 'sum_return', 'action']]"
   ]
  },
  {
   "cell_type": "code",
   "execution_count": 160,
   "metadata": {},
   "outputs": [],
   "source": [
    "from sklearn.preprocessing import LabelEncoder\n",
    "\n",
    "label = LabelEncoder()\n",
    "\n",
    "df = label_action(sp500)\n",
    "\n",
    "df.loc[:, 'action'] = label.fit_transform(df.loc[:, 'action'].astype(str))\n",
    "\n",
    "df = df.loc[:'2016-10-31']"
   ]
  },
  {
   "cell_type": "code",
   "execution_count": 161,
   "metadata": {},
   "outputs": [
    {
     "name": "stdout",
     "output_type": "stream",
     "text": [
      "1.0\n"
     ]
    }
   ],
   "source": [
    "from sklearn import ensemble, metrics\n",
    "X_train = df.loc[:'2016-09-30',['Open', 'High', 'Low', 'Close', 'Volume', 'avg_price']]\n",
    "y_train = df.loc[:'2016-09-30','action']\n",
    "X_test = df.loc['2016-10-01':,['Open', 'High', 'Low', 'Close', 'Volume', 'avg_price']]\n",
    "y_test = df.loc['2016-10-01':, 'action']\n",
    "\n",
    "params = {'n_estimators': 1000, 'max_depth': 4, 'min_samples_split': 2, 'learning_rate': 0.01, 'loss': 'ls'}\n",
    "clf = ensemble.GradientBoostingClassifier()\n",
    "clf.fit(X_train, y_train)\n",
    "\n",
    "y_predict = clf.predict(X_test)\n",
    "\n",
    "confusion = metrics.confusion_matrix(y_test, y_predict)\n",
    "\n",
    "print(clf.score(X_test, y_test))"
   ]
  },
  {
   "cell_type": "code",
   "execution_count": 162,
   "metadata": {},
   "outputs": [
    {
     "name": "stdout",
     "output_type": "stream",
     "text": [
      "Confusion matrix, without normalization\nNormalized confusion matrix\n"
     ]
    },
    {
     "data": {
      "image/png": "[encoded data removed]",
      "text/plain": [
       "<matplotlib.figure.Figure at 0x11dca85c0>"
      ]
     },
     "metadata": {},
     "output_type": "display_data"
    }
   ],
   "source": [
    "from matplotlib import pyplot as plt\n",
    "import numpy as np\n",
    "import itertools\n",
    "def plot_confusion_matrix(cm, classes,\n",
    "                          normalize=False,\n",
    "                          title='Confusion matrix',\n",
    "                          cmap=plt.cm.Blues):\n",
    "    \"\"\"\n",
    "    This function prints and plots the confusion matrix.\n",
    "    Normalization can be applied by setting `normalize=True`.\n",
    "    \"\"\"\n",
    "    plt.imshow(cm, interpolation='nearest', cmap=cmap)\n",
    "    plt.title(title)\n",
    "    plt.colorbar()\n",
    "    tick_marks = np.arange(len(classes))\n",
    "    plt.xticks(tick_marks, classes, rotation=45)\n",
    "    plt.yticks(tick_marks, classes)\n",
    "\n",
    "    if normalize:\n",
    "        cm = cm.astype('float') / cm.sum(axis=1)[:, np.newaxis]\n",
    "        print(\"Normalized confusion matrix\")\n",
    "    else:\n",
    "        print('Confusion matrix, without normalization')\n",
    "\n",
    "    thresh = cm.max() / 2.\n",
    "    for i, j in itertools.product(range(cm.shape[0]), range(cm.shape[1])):\n",
    "        plt.text(j, i, cm[i, j],\n",
    "                 horizontalalignment=\"center\",\n",
    "                 color=\"white\" if cm[i, j] > thresh else \"black\")\n",
    "\n",
    "    plt.tight_layout()\n",
    "    plt.ylabel('True label')\n",
    "    plt.xlabel('Predicted label')\n",
    "\n",
    "\n",
    "np.set_printoptions(precision=2)\n",
    "\n",
    "plt.figure(figsize=(15,8))\n",
    "plt.subplot(211)\n",
    "\n",
    "plot_confusion_matrix(confusion, classes=label.inverse_transform([0,1,2]),\n",
    "                      title='Confusion matrix, without normalization')\n",
    "\n",
    "plt.subplot(212)\n",
    "plot_confusion_matrix(confusion, classes=label.inverse_transform([0,1,2]), normalize=True,\n",
    "                      title='Normalized confusion matrix')"
   ]
  },
  {
   "cell_type": "code",
   "execution_count": 168,
   "metadata": {},
   "outputs": [
    {
     "name": "stdout",
     "output_type": "stream",
     "text": [
      "1.0\n"
     ]
    }
   ],
   "source": [
    "from sklearn.neural_network import MLPClassifier\n",
    "clf = MLPClassifier(solver='lbfgs', alpha=1e-5, hidden_layer_sizes=(15,), random_state=1)\n",
    "\n",
    "clf.fit(X_train, y_train)\n",
    "\n",
    "y_predict = clf.predict(X_test)\n",
    "\n",
    "confusion = metrics.confusion_matrix(y_test, y_predict)\n",
    "\n",
    "print(clf.score(X_test, y_test))"
   ]
  },
  {
   "cell_type": "code",
   "execution_count": 170,
   "metadata": {},
   "outputs": [
    {
     "name": "stdout",
     "output_type": "stream",
     "text": [
      "Confusion matrix, without normalization\nNormalized confusion matrix\n"
     ]
    },
    {
     "data": {
      "image/png": "[encoded data removed]",
      "text/plain": [
       "<matplotlib.figure.Figure at 0x11dc63048>"
      ]
     },
     "metadata": {},
     "output_type": "display_data"
    }
   ],
   "source": [
    "np.set_printoptions(precision=2)\n",
    "\n",
    "plt.figure(figsize=(15,8))\n",
    "plt.subplot(211)\n",
    "\n",
    "plot_confusion_matrix(confusion, classes=label.inverse_transform([0,1,2]),\n",
    "                      title='Confusion matrix, without normalization')\n",
    "\n",
    "plt.subplot(212)\n",
    "plot_confusion_matrix(confusion, classes=label.inverse_transform([0,1,2]), normalize=True,\n",
    "                      title='Normalized confusion matrix')"
   ]
  },
  {
   "cell_type": "code",
   "execution_count": 176,
   "metadata": {},
   "outputs": [],
   "source": [
    "it_stock = pd.read_csv('/Users/Maxwell/PycharmProjects/Github/FinancialProgramClass/companylist_it.csv').loc[:, 'Symbol']\n",
    "bank_stock = pd.read_csv('/Users/Maxwell/PycharmProjects/Github/FinancialProgramClass/companylist_bank.csv').loc[:, 'Symbol']\n",
    "stock = pd.DataFrame()\n",
    "\n",
    "for ticker in it_stock:\n",
    "    \n",
    "    df_temp = data.DataReader(ticker, 'yahoo', start, end)\n",
    "    df_temp.loc[:, 'Ticker'] = str(ticker)\n",
    "    df_temp.loc[:, 'Industry'] = 'IT'\n",
    "    df_temp.loc[:, 'avg_price']= (df_temp.loc[:, 'High'] + df_temp.loc[:, 'Low'] + df_temp.loc[:, 'Close'])/3\n",
    "    df_temp = label_action(df_temp)\n",
    "    stock = pd.concat([df_temp,stock])\n",
    "\n",
    "for ticker in bank_stock:\n",
    "    \n",
    "    df_temp = data.DataReader(ticker, 'yahoo', start, end)\n",
    "    df_temp.loc[:, 'Ticker'] = str(ticker)\n",
    "    df_temp.loc[:, 'Industry'] = 'Bank'\n",
    "    df_temp.loc[:, 'avg_price']= (df_temp.loc[:, 'High'] + df_temp.loc[:, 'Low'] + df_temp.loc[:, 'Close'])/3\n",
    "    df_temp = label_action(df_temp)\n",
    "    stock = pd.concat([df_temp,stock])"
   ]
  },
  {
   "cell_type": "code",
   "execution_count": 179,
   "metadata": {},
   "outputs": [
    {
     "name": "stdout",
     "output_type": "stream",
     "text": [
      "1.0\n"
     ]
    }
   ],
   "source": [
    "label_action = LabelEncoder()\n",
    "label_ticker = LabelEncoder()\n",
    "label_industry = LabelEncoder()\n",
    "\n",
    "df = stock.copy()\n",
    "\n",
    "df.loc[:, 'action'] = label_action.fit_transform(df.loc[:, 'action'].astype(str))\n",
    "df.loc[:, 'Ticker'] = label_ticker.fit_transform(df.loc[:, 'action'].astype(str))\n",
    "df.loc[:, 'Industry'] = label_industry.fit_transform(df.loc[:, 'action'].astype(str))\n",
    "\n",
    "df = df.loc[:'2016-10-31']\n",
    "\n",
    "\n",
    "X_train = df.loc[:'2016-09-30',['Open', 'High', 'Low', 'Close', 'Volume', 'avg_price', 'Ticker', 'Industry']]\n",
    "y_train = df.loc[:'2016-09-30','action']\n",
    "X_test = df.loc['2016-10-01':,['Open', 'High', 'Low', 'Close', 'Volume', 'avg_price', 'Ticker', 'Industry']]\n",
    "y_test = df.loc['2016-10-01':, 'action']\n",
    "\n",
    "params = {'n_estimators': 1000, 'max_depth': 4, 'min_samples_split': 2, 'learning_rate': 0.01, 'loss': 'ls'}\n",
    "clf = ensemble.GradientBoostingClassifier()\n",
    "clf.fit(X_train, y_train)\n",
    "\n",
    "y_predict = clf.predict(X_test)\n",
    "\n",
    "confusion = metrics.confusion_matrix(y_test, y_predict)\n",
    "\n",
    "print(clf.score(X_test, y_test))"
   ]
  },
  {
   "cell_type": "code",
   "execution_count": 180,
   "metadata": {},
   "outputs": [
    {
     "name": "stdout",
     "output_type": "stream",
     "text": [
      "Confusion matrix, without normalization\nNormalized confusion matrix\n"
     ]
    },
    {
     "data": {
      "image/png": "[encoded data removed]",
      "text/plain": [
       "<matplotlib.figure.Figure at 0x1178017b8>"
      ]
     },
     "metadata": {},
     "output_type": "display_data"
    }
   ],
   "source": [
    "np.set_printoptions(precision=2)\n",
    "\n",
    "plt.figure(figsize=(15,8))\n",
    "plt.subplot(211)\n",
    "\n",
    "plot_confusion_matrix(confusion, classes=label.inverse_transform([0,1,2]),\n",
    "                      title='Confusion matrix, without normalization')\n",
    "\n",
    "plt.subplot(212)\n",
    "plot_confusion_matrix(confusion, classes=label.inverse_transform([0,1,2]), normalize=True,\n",
    "                      title='Normalized confusion matrix')"
   ]
  },
  {
   "cell_type": "code",
   "execution_count": 187,
   "metadata": {},
   "outputs": [
    {
     "name": "stdout",
     "output_type": "stream",
     "text": [
      "0.219630709427\n"
     ]
    }
   ],
   "source": [
    "from sklearn.neural_network import MLPClassifier\n",
    "clf = MLPClassifier(solver='lbfgs', alpha=1e-5, hidden_layer_sizes=(15,), random_state=1)\n",
    "\n",
    "clf.fit(X_train, y_train)\n",
    "\n",
    "y_predict = clf.predict(X_test)\n",
    "\n",
    "confusion = metrics.confusion_matrix(y_test, y_predict)\n",
    "\n",
    "print(clf.score(X_test, y_test))"
   ]
  },
  {
   "cell_type": "code",
   "execution_count": 188,
   "metadata": {},
   "outputs": [
    {
     "name": "stdout",
     "output_type": "stream",
     "text": [
      "Confusion matrix, without normalization\nNormalized confusion matrix\n"
     ]
    },
    {
     "data": {
      "image/png": "[encoded data removed]",
      "text/plain": [
       "<matplotlib.figure.Figure at 0x11eb81240>"
      ]
     },
     "metadata": {},
     "output_type": "display_data"
    }
   ],
   "source": [
    "np.set_printoptions(precision=2)\n",
    "\n",
    "plt.figure(figsize=(15,8))\n",
    "plt.subplot(211)\n",
    "\n",
    "plot_confusion_matrix(confusion, classes=label.inverse_transform([0,1,2]),\n",
    "                      title='Confusion matrix, without normalization')\n",
    "\n",
    "plt.subplot(212)\n",
    "plot_confusion_matrix(confusion, classes=label.inverse_transform([0,1,2]), normalize=True,\n",
    "                      title='Normalized confusion matrix')"
   ]
  },
  {
   "cell_type": "code",
   "execution_count": null,
   "metadata": {},
   "outputs": [],
   "source": [
    ""
   ]
  }
 ],
 "metadata": {
  "kernelspec": {
   "display_name": "Python 2",
   "language": "python",
   "name": "python2"
  },
  "language_info": {
   "codemirror_mode": {
    "name": "ipython",
    "version": 2.0
   },
   "file_extension": ".py",
   "mimetype": "text/x-python",
   "name": "python",
   "nbconvert_exporter": "python",
   "pygments_lexer": "ipython2",
   "version": "2.7.6"
  }
 },
 "nbformat": 4,
 "nbformat_minor": 0
}